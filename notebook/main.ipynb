{
 "cells": [
  {
   "cell_type": "code",
   "execution_count": 1,
   "metadata": {},
   "outputs": [
    {
     "name": "stderr",
     "output_type": "stream",
     "text": [
      "c:\\Users\\gupta\\OneDrive\\Desktop\\Projects\\conversational_rag\\ragenv\\Lib\\site-packages\\tqdm\\auto.py:21: TqdmWarning: IProgress not found. Please update jupyter and ipywidgets. See https://ipywidgets.readthedocs.io/en/stable/user_install.html\n",
      "  from .autonotebook import tqdm as notebook_tqdm\n"
     ]
    }
   ],
   "source": [
    "from src.chat_db import InteractionDB\n",
    "from src.rag import ConversationalRAGChain\n",
    "from uuid import uuid1"
   ]
  },
  {
   "cell_type": "code",
   "execution_count": 2,
   "metadata": {},
   "outputs": [
    {
     "name": "stdout",
     "output_type": "stream",
     "text": [
      "Connection Established\n"
     ]
    }
   ],
   "source": [
    "db = InteractionDB()\n",
    "chatragchain = ConversationalRAGChain()"
   ]
  },
  {
   "cell_type": "code",
   "execution_count": 3,
   "metadata": {},
   "outputs": [],
   "source": [
    "data= await chatragchain.data_collection()\n",
    "split_data = chatragchain.data_split(collected_data=data)"
   ]
  },
  {
   "cell_type": "code",
   "execution_count": 4,
   "metadata": {},
   "outputs": [],
   "source": [
    "vector_store = chatragchain.FAISS(data=split_data)"
   ]
  },
  {
   "cell_type": "code",
   "execution_count": 5,
   "metadata": {},
   "outputs": [
    {
     "data": {
      "text/plain": [
       "[Document(metadata={'source': 'C:\\\\Users\\\\gupta\\\\OneDrive\\\\Desktop\\\\Projects\\\\conversational_rag\\\\Data\\\\PP_10-24_Jaldi.pdf', 'page': 8}, page_content='the end of the electoral campaign and at the beginning of the voting operations, the BJP was \\nwidely predicted to be the clear winner, even aiming for 400 seats out of the 543 in the Lok Sabha. \\nIn the outgoing legislature, the BJP held an absolute majority with 303 seats, making unnecessary \\nthe NDA with supplementary parties, which were not able to influence decisions. However, as \\nthe electoral process progressed, ground reports indicated that BJP candidates were facing more \\ndifficulties than anticipated, and the ‘Modi magic’ was not working as effectively as it had in the \\npast. Indeed, the entire BJP electoral campaign revolved around the personality of the Prime'),\n",
       " Document(metadata={'source': 'C:\\\\Users\\\\gupta\\\\OneDrive\\\\Desktop\\\\Projects\\\\conversational_rag\\\\Data\\\\PP_10-24_Jaldi.pdf', 'page': 9}, page_content='Retrospective Analysis of the 2024 Indian Elections: BJP Wins the General Elections \\nAgainst the Strengthening Opposition of the INDIA Bloc\\nPolicy Paper  -  N° 10/24  -  June 2024\\n10\\n        SEATS WON BY THE BJP BLOC\\nBaratiya Janata Party (BJP) 240  \\nTelugu Desam Party (TDP) 16\\nJanata Dal (United) 12\\nShiv Sena (Shinde) 7\\nLok Janashakti Party (Ram Vilas) 5\\nRashtriya Lok Dal (RLD) 2\\nJanata Dal (Secular) - JD(S) 2\\nJanasena Party 2\\nUnited People’s Party 1\\nAsom Gana Parishad 1\\nApna Dal (Soneylal) 1\\nSikkim Krantikari Morcha - SKM 1\\nHindustani Awam Morcha 1\\nAJSU Party (AJSUP) 1\\nNationalist Congress Party 1\\n2.2 The Resurgence of the Congress')]"
      ]
     },
     "execution_count": 5,
     "metadata": {},
     "output_type": "execute_result"
    }
   ],
   "source": [
    "vector_store.similarity_search(query='bjp votes',k=2)"
   ]
  },
  {
   "cell_type": "code",
   "execution_count": 6,
   "metadata": {},
   "outputs": [
    {
     "name": "stdout",
     "output_type": "stream",
     "text": [
      "Connection Established\n"
     ]
    },
    {
     "data": {
      "text/plain": [
       "<bound method InteractionDB.create_table of <src.chat_db.InteractionDB object at 0x0000028CCD2221E0>>"
      ]
     },
     "execution_count": 6,
     "metadata": {},
     "output_type": "execute_result"
    }
   ],
   "source": [
    "db.get_database_connection()\n",
    "db.create_table"
   ]
  },
  {
   "cell_type": "code",
   "execution_count": 7,
   "metadata": {},
   "outputs": [],
   "source": [
    "session = str(uuid1())\n",
    "chat_history = db.retrieve_chat(session_id=session)"
   ]
  },
  {
   "cell_type": "code",
   "execution_count": 8,
   "metadata": {},
   "outputs": [
    {
     "name": "stdout",
     "output_type": "stream",
     "text": [
      "9ad6bb67-9848-11ef-8833-b07d64873e34\n"
     ]
    }
   ],
   "source": [
    "print(session)"
   ]
  },
  {
   "cell_type": "code",
   "execution_count": 9,
   "metadata": {},
   "outputs": [],
   "source": [
    "import pandas as pd"
   ]
  },
  {
   "cell_type": "code",
   "execution_count": 10,
   "metadata": {},
   "outputs": [
    {
     "data": {
      "text/plain": [
       "[]"
      ]
     },
     "execution_count": 10,
     "metadata": {},
     "output_type": "execute_result"
    }
   ],
   "source": [
    "chat_history"
   ]
  },
  {
   "cell_type": "code",
   "execution_count": 11,
   "metadata": {},
   "outputs": [],
   "source": [
    "history = chatragchain.Contextualize_rag(db=vector_store)"
   ]
  },
  {
   "cell_type": "code",
   "execution_count": 12,
   "metadata": {},
   "outputs": [],
   "source": [
    "output =chatragchain.final_chain(history=history,query='how bjp wons',chat=chat_history)"
   ]
  },
  {
   "cell_type": "code",
   "execution_count": 13,
   "metadata": {},
   "outputs": [],
   "source": [
    "db.index_data(session_id=session,ai_response=output['answer'],user_input=output['input'],model='Google-Gemini-Flash')"
   ]
  },
  {
   "cell_type": "code",
   "execution_count": 16,
   "metadata": {},
   "outputs": [],
   "source": [
    "chat_history = db.retrieve_chat(session_id=session)\n",
    "output =chatragchain.final_chain(history=history,query='reason for victory',chat=chat_history)\n",
    "db.index_data(session_id=session,ai_response=output['answer'],user_input=output['input'],model='Google-Gemini-Flash')"
   ]
  },
  {
   "cell_type": "code",
   "execution_count": 17,
   "metadata": {},
   "outputs": [
    {
     "data": {
      "text/plain": [
       "[{'role': 'human', 'content': 'how bjp wons'},\n",
       " {'role': 'ai',\n",
       "  'content': 'The provided text focuses on the 2024 Indian General Elections and highlights the BJP\\'s victory, but it doesn\\'t explicitly state how they won. However, it does provide some insights:\\n\\n**Factors contributing to the BJP\\'s victory:**\\n\\n* **Welfare programs:** The text mentions that voters identify welfare programs with the ruling party, and that the number of households benefiting from programs like clean cooking fuel, toilets, and women\\'s access to bank accounts has increased under Modi\\'s leadership. This suggests that these programs contributed to the BJP\\'s success.\\n* **\"Modi magic\":**  While the text acknowledges that the \"Modi magic\" wasn\\'t as effective as in the past, it still implies that Modi\\'s popularity and leadership played a significant role in the BJP\\'s victory.\\n* **NDA coalition:** The BJP needed the help of its coalition partner, the National Democratic Alliance (NDA), to reach the required 272 seats to form the government. This indicates that the NDA\\'s support was crucial for the BJP\\'s victory.\\n\\n**Factors hindering the BJP\\'s expected landslide:**\\n\\n* **Strengthening opposition:** The text highlights the emergence of the INDIA bloc, a united opposition coalition, and the Congress party\\'s resurgence. It suggests that these factors made the election more competitive than initially anticipated.\\n* **\"Modi magic\" waning:**  The text notes that the \"Modi magic\" wasn\\'t as effective as in the past, implying that the BJP faced challenges in maintaining its previous level of support.\\n\\n**Overall, the text suggests that the BJP\\'s victory was a result of a combination of factors:**\\n\\n* **Successful implementation of welfare programs:** This contributed to the BJP\\'s popularity and voter base.\\n* **Modi\\'s leadership and popularity:** While not as dominant as in previous elections, Modi\\'s influence was still significant.\\n* **NDA coalition support:** The NDA\\'s backing was crucial for the BJP to reach the required majority.\\n\\nHowever, the text also acknowledges that the BJP\\'s victory was not a landslide as initially predicted, due to the strengthening opposition and the waning \"Modi magic.\" \\n'},\n",
       " {'role': 'human', 'content': 'reason for victory'},\n",
       " {'role': 'ai',\n",
       "  'content': 'The provided text suggests that the BJP\\'s victory in the 2024 Indian General Elections was a result of a combination of factors:\\n\\n**1. Welfare Programs:**\\n\\n* The text highlights the impact of welfare programs implemented by the Modi government, such as clean cooking fuel, toilets, women\\'s access to bank accounts, and free bicycles for girls attending schools. \\n* Surveys show that voters identify these programs with the ruling party, suggesting that they contributed to the BJP\\'s success.\\n\\n**2. Modi\\'s Leadership and Popularity:**\\n\\n* While the text acknowledges that the \"Modi magic\" wasn\\'t as effective as in the past, it still implies that Modi\\'s leadership and popularity played a significant role in the BJP\\'s victory.\\n* The text mentions that the BJP government tried to leverage India\\'s rising global status and its Hindu nationalist credentials during the election campaign, suggesting that Modi\\'s image as a strong leader was a factor.\\n\\n**3. NDA Coalition Support:**\\n\\n* The BJP needed the help of its coalition partner, the National Democratic Alliance (NDA), to reach the required 272 seats to form the government. \\n* This indicates that the NDA\\'s support was crucial for the BJP\\'s victory.\\n\\n**4. Resurgence of the Congress Party:**\\n\\n* The text highlights the unexpected resurgence of the Congress party, led by Rahul Gandhi, which prevented the BJP from securing an absolute majority. \\n* This suggests that the BJP\\'s victory was not a landslide as initially predicted, and that the opposition played a significant role in limiting the BJP\\'s gains.\\n\\n**5. Local Livelihood Issues:**\\n\\n* The text mentions that local livelihood issues within the framework of the new Indian welfarism and the protection of religious minorities ultimately proved decisive for voters. \\n* This suggests that the BJP\\'s success was not solely based on national issues, but also on its ability to address local concerns.\\n\\n**In conclusion, the BJP\\'s victory in the 2024 Indian General Elections was a result of a complex interplay of factors, including successful welfare programs, Modi\\'s leadership, NDA coalition support, the resurgence of the Congress party, and the importance of local livelihood issues.** \\n'}]"
      ]
     },
     "execution_count": 17,
     "metadata": {},
     "output_type": "execute_result"
    }
   ],
   "source": [
    "db.retrieve_chat(session_id=session)"
   ]
  },
  {
   "cell_type": "code",
   "execution_count": null,
   "metadata": {},
   "outputs": [],
   "source": []
  }
 ],
 "metadata": {
  "kernelspec": {
   "display_name": "ragenv",
   "language": "python",
   "name": "python3"
  },
  "language_info": {
   "codemirror_mode": {
    "name": "ipython",
    "version": 3
   },
   "file_extension": ".py",
   "mimetype": "text/x-python",
   "name": "python",
   "nbconvert_exporter": "python",
   "pygments_lexer": "ipython3",
   "version": "3.12.7"
  }
 },
 "nbformat": 4,
 "nbformat_minor": 2
}
